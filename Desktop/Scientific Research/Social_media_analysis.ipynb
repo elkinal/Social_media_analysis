{
 "cells": [
  {
   "cell_type": "code",
   "execution_count": 5,
   "metadata": {},
   "outputs": [],
   "source": [
    "import numpy as np"
   ]
  },
  {
   "cell_type": "code",
   "execution_count": 6,
   "metadata": {},
   "outputs": [],
   "source": [
    "'''This function places the graph into a breadth-first structure'''\n",
    "def breadth_first(graph, root):\n",
    "    n = graph.shape[0]\n",
    "    \n",
    "    new_graph = -np.ones((n, n))\n",
    "    level = -np.ones(n,int)\n",
    "    nodes = np.array(range(n))#номера вершин для удобства\n",
    "    \n",
    "    current_level = 0\n",
    "    \n",
    "    level[root] = current_level\n",
    "    \n",
    "    while current_level in level:\n",
    "        for node in nodes[level == current_level]:#не в тот массив смотрели(нужны были номера вершин!)\n",
    "        \n",
    "            \n",
    "            index = []\n",
    "            \n",
    "            for i in range(n):\n",
    "                if graph[node][i]>=0 and level[i] == -1:\n",
    "                    index.append(i)\n",
    "                    \n",
    "            new_graph[node][index] = 0\n",
    "            for i in index:#добавил симметрию\n",
    "                new_graph[i][node] = 0\n",
    "                \n",
    "            level[index] = current_level + 1\n",
    "            \n",
    "        current_level += 1\n",
    "    return new_graph, level"
   ]
  },
  {
   "cell_type": "code",
   "execution_count": null,
   "metadata": {},
   "outputs": [],
   "source": [
    "def categorize(graph):\n",
    "    n = graph.shape[0]\n",
    "    \n",
    "    color = -np.ones(n, int) #fill COLOR with -1\n",
    "    current_color = 0\n",
    "    nodes = np.array(range(n)) \n",
    "    \n",
    "    while -1 in color:\n",
    "        first = list(color).index(-1) #Finds the first occurence of -1 in the list\n",
    "        index = [first]\n",
    "        \n",
    "        while len(index) != 0:\n",
    "            index2 = []\n",
    "            \n",
    "            for node in index:\n",
    "\n",
    "                for i in range(n):\n",
    "                    if graph[node][i]>=0 and color[i] == -1:\n",
    "                        index2.append(i)\n",
    "                        color[i] = current_color\n",
    "            \n",
    "            index = index2\n",
    "        current_color += 1\n",
    "        \n",
    "    return color\n",
    "            "
   ]
  },
  {
   "cell_type": "code",
   "execution_count": 105,
   "metadata": {},
   "outputs": [],
   "source": [
    "graph = np.array([[0, 1., 1., 0, 0],\n",
    "       [1., 0, 1., 0, 0],\n",
    "       [1., 1., 0, 1., 0],\n",
    "       [0, 0, 1., 0, 1.],\n",
    "       [0, 0, 0, 1., 0]])"
   ]
  },
  {
   "cell_type": "code",
   "execution_count": 106,
   "metadata": {},
   "outputs": [],
   "source": [
    "graph[graph == 0] = -1"
   ]
  },
  {
   "cell_type": "code",
   "execution_count": 107,
   "metadata": {},
   "outputs": [],
   "source": [
    "graph[graph>0] = 0"
   ]
  },
  {
   "cell_type": "code",
   "execution_count": 108,
   "metadata": {},
   "outputs": [
    {
     "data": {
      "text/plain": [
       "array([[-1.,  0.,  0., -1., -1.],\n",
       "       [ 0., -1.,  0., -1., -1.],\n",
       "       [ 0.,  0., -1.,  0., -1.],\n",
       "       [-1., -1.,  0., -1.,  0.],\n",
       "       [-1., -1., -1.,  0., -1.]])"
      ]
     },
     "execution_count": 108,
     "metadata": {},
     "output_type": "execute_result"
    }
   ],
   "source": [
    "graph"
   ]
  },
  {
   "cell_type": "code",
   "execution_count": 11,
   "metadata": {},
   "outputs": [],
   "source": [
    "root = 0"
   ]
  },
  {
   "cell_type": "code",
   "execution_count": 12,
   "metadata": {},
   "outputs": [],
   "source": [
    "new_graph, level = breadth_first(graph,root)"
   ]
  },
  {
   "cell_type": "code",
   "execution_count": 13,
   "metadata": {},
   "outputs": [
    {
     "data": {
      "text/plain": [
       "array([[-1.,  0.,  0., -1., -1.],\n",
       "       [ 0., -1., -1., -1., -1.],\n",
       "       [ 0., -1., -1.,  0., -1.],\n",
       "       [-1., -1.,  0., -1.,  0.],\n",
       "       [-1., -1., -1.,  0., -1.]])"
      ]
     },
     "execution_count": 13,
     "metadata": {},
     "output_type": "execute_result"
    }
   ],
   "source": [
    "new_graph"
   ]
  },
  {
   "cell_type": "code",
   "execution_count": 14,
   "metadata": {},
   "outputs": [
    {
     "data": {
      "text/plain": [
       "[0, 1, 2, 3]"
      ]
     },
     "execution_count": 14,
     "metadata": {},
     "output_type": "execute_result"
    }
   ],
   "source": [
    "list(range(int(level.max()+1)))"
   ]
  },
  {
   "cell_type": "markdown",
   "metadata": {},
   "source": [
    "breadth_first - вроде исправил"
   ]
  },
  {
   "cell_type": "code",
   "execution_count": 51,
   "metadata": {},
   "outputs": [],
   "source": [
    "'''This function calculates the values of the shortest paths to each node (shortest path = the sum of incoming paths)'''\n",
    "def pointer(new_graph, level, root):\n",
    "    \n",
    "    n = new_graph.shape[0]\n",
    "    output = np.zeros(n)\n",
    "    output[root] = 1\n",
    "    nodes = np.array(range(n))#номера вершин для удобства\n",
    "    \n",
    "    for x in range(int(level.max()+1)):\n",
    "        for y in nodes[level == x]: #upside down #не в тот массив смотрели(нужны были номера вершин!)\n",
    "            index = []\n",
    "            for i in range(n): \n",
    "                if new_graph[y][i] >= 0 and level[i] == x+1:\n",
    "                    index.append(i)\n",
    "\n",
    "            output[index] += output[y]\n",
    "    \n",
    "    \n",
    "    return output"
   ]
  },
  {
   "cell_type": "code",
   "execution_count": 16,
   "metadata": {},
   "outputs": [],
   "source": [
    "output = pointer(new_graph, level, root)"
   ]
  },
  {
   "cell_type": "code",
   "execution_count": 17,
   "metadata": {},
   "outputs": [
    {
     "data": {
      "text/plain": [
       "array([3, 2, 1, 0])"
      ]
     },
     "execution_count": 17,
     "metadata": {},
     "output_type": "execute_result"
    }
   ],
   "source": [
    "np.array(range(np.max(level)+1)[::-1])"
   ]
  },
  {
   "cell_type": "code",
   "execution_count": 30,
   "metadata": {},
   "outputs": [
    {
     "data": {
      "text/plain": [
       "array([1., 1., 1., 1., 1.])"
      ]
     },
     "execution_count": 30,
     "metadata": {},
     "output_type": "execute_result"
    }
   ],
   "source": [
    "output"
   ]
  },
  {
   "cell_type": "code",
   "execution_count": 18,
   "metadata": {},
   "outputs": [
    {
     "data": {
      "text/plain": [
       "array([0, 1, 1, 2, 3])"
      ]
     },
     "execution_count": 18,
     "metadata": {},
     "output_type": "execute_result"
    }
   ],
   "source": [
    "level"
   ]
  },
  {
   "cell_type": "code",
   "execution_count": 19,
   "metadata": {},
   "outputs": [
    {
     "data": {
      "text/plain": [
       "3"
      ]
     },
     "execution_count": 19,
     "metadata": {},
     "output_type": "execute_result"
    }
   ],
   "source": [
    "list(level).index(2)"
   ]
  },
  {
   "cell_type": "markdown",
   "metadata": {},
   "source": [
    "pointer - вроде исправил (нужна проверка на более больших графах)"
   ]
  },
  {
   "cell_type": "code",
   "execution_count": 52,
   "metadata": {},
   "outputs": [],
   "source": [
    "''' Determine the flow values from a starting node A to all other nodes in the network. \n",
    "This is done by working up from the lowest layers of the breadth-first search and dividing up the flow above a node \n",
    "in proportion to the number of shortest paths coming into it on each edge.'''\n",
    "def flow(new_graph, level, root, output):\n",
    "    \n",
    "    n = new_graph.shape[0]\n",
    "    nodes = np.array(range(n))#номера вершин для удобства\n",
    "    flows = np.ones(n)\n",
    "    \n",
    "    for x in np.array(range(np.max(level)+1)[::-1]):\n",
    "        for y in nodes[level == x]:  #не в тот массив смотрели(нужны были номера вершин!)\n",
    "            for i in range(n):\n",
    "                if(new_graph[i][y] >= 0 and level[i] == x-1):\n",
    "                    new_graph[i][y] = flows[y] * output[i] / output[y]\n",
    "                    new_graph[y][i] = flows[y] * output[i] / output[y]\n",
    "                    flows[i] = flows[y] * output[i] / output[y]\n",
    "        \n",
    "    return new_graph"
   ]
  },
  {
   "cell_type": "code",
   "execution_count": 21,
   "metadata": {},
   "outputs": [
    {
     "data": {
      "text/plain": [
       "array([[-1.,  0.,  0., -1., -1.],\n",
       "       [ 0., -1., -1., -1., -1.],\n",
       "       [ 0., -1., -1.,  0., -1.],\n",
       "       [-1., -1.,  0., -1.,  0.],\n",
       "       [-1., -1., -1.,  0., -1.]])"
      ]
     },
     "execution_count": 21,
     "metadata": {},
     "output_type": "execute_result"
    }
   ],
   "source": [
    "new_graph"
   ]
  },
  {
   "cell_type": "code",
   "execution_count": 22,
   "metadata": {},
   "outputs": [
    {
     "data": {
      "text/plain": [
       "array([[-1.,  1.,  1., -1., -1.],\n",
       "       [ 1., -1., -1., -1., -1.],\n",
       "       [ 1., -1., -1.,  1., -1.],\n",
       "       [-1., -1.,  1., -1.,  1.],\n",
       "       [-1., -1., -1.,  1., -1.]])"
      ]
     },
     "execution_count": 22,
     "metadata": {},
     "output_type": "execute_result"
    }
   ],
   "source": [
    "flow(new_graph, level, root, output)"
   ]
  },
  {
   "cell_type": "markdown",
   "metadata": {},
   "source": [
    "flow - вроде исправил (нужна проверка на более больших графах)"
   ]
  },
  {
   "cell_type": "code",
   "execution_count": 66,
   "metadata": {},
   "outputs": [],
   "source": [
    "def removeEdge(graph):\n",
    "    max_edge = graph.max()\n",
    "    graph[graph == max_edge] = -1       \n",
    "    return graph"
   ]
  },
  {
   "cell_type": "code",
   "execution_count": 109,
   "metadata": {},
   "outputs": [],
   "source": [
    "def summary(graph,iterations):\n",
    "    output = []\n",
    "    \n",
    "    for y in range(iterations):\n",
    "        \n",
    "        graph[graph >= 0] = 0\n",
    "        for x in range(graph.shape[0]):\n",
    "            root = x\n",
    "\n",
    "            breadth_first_value = breadth_first(graph, root)\n",
    "            \n",
    "            node_values = pointer(breadth_first_value[0], breadth_first_value[1], root)\n",
    "            \n",
    "            \n",
    "            flow_values = flow(\n",
    "                breadth_first_value[0],\n",
    "                breadth_first_value[1],\n",
    "                root,\n",
    "                node_values)\n",
    "\n",
    "            graph[flow_values >= 0] += flow_values[flow_values >= 0]\n",
    "\n",
    "        graph = removeEdge(graph)\n",
    "        output.append(graph.copy())#Делаем копию\n",
    "    return output"
   ]
  },
  {
   "cell_type": "code",
   "execution_count": 110,
   "metadata": {},
   "outputs": [
    {
     "data": {
      "text/plain": [
       "[array([[-1.,  2.,  4., -1., -1.],\n",
       "        [ 2., -1.,  4., -1., -1.],\n",
       "        [ 4.,  4., -1., -1., -1.],\n",
       "        [-1., -1., -1., -1., -1.],\n",
       "        [-1., -1., -1., -1., -1.]]), array([[-1., -1., -1., -1., -1.],\n",
       "        [-1., -1., -1., -1., -1.],\n",
       "        [-1., -1., -1., -1., -1.],\n",
       "        [-1., -1., -1., -1., -1.],\n",
       "        [-1., -1., -1., -1., -1.]])]"
      ]
     },
     "execution_count": 110,
     "metadata": {},
     "output_type": "execute_result"
    }
   ],
   "source": [
    "summary(graph,2)"
   ]
  },
  {
   "cell_type": "code",
   "execution_count": null,
   "metadata": {},
   "outputs": [],
   "source": []
  }
 ],
 "metadata": {
  "kernelspec": {
   "display_name": "Python 3",
   "language": "python",
   "name": "python3"
  },
  "language_info": {
   "codemirror_mode": {
    "name": "ipython",
    "version": 3
   },
   "file_extension": ".py",
   "mimetype": "text/x-python",
   "name": "python",
   "nbconvert_exporter": "python",
   "pygments_lexer": "ipython3",
   "version": "3.7.0"
  }
 },
 "nbformat": 4,
 "nbformat_minor": 2
}
