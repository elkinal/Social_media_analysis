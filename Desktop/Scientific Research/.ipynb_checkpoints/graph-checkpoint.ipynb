{
 "cells": [
  {
   "cell_type": "code",
   "execution_count": 1,
   "metadata": {},
   "outputs": [
    {
     "ename": "ModuleNotFoundError",
     "evalue": "No module named 'utils'",
     "output_type": "error",
     "traceback": [
      "\u001b[1;31m---------------------------------------------------------------------------\u001b[0m",
      "\u001b[1;31mModuleNotFoundError\u001b[0m                       Traceback (most recent call last)",
      "\u001b[1;32m<ipython-input-1-afaecc6dfef1>\u001b[0m in \u001b[0;36m<module>\u001b[1;34m()\u001b[0m\n\u001b[0;32m      6\u001b[0m \u001b[1;32mimport\u001b[0m \u001b[0mrandom\u001b[0m\u001b[1;33m\u001b[0m\u001b[0m\n\u001b[0;32m      7\u001b[0m \u001b[1;32mimport\u001b[0m \u001b[0mnumpy\u001b[0m \u001b[1;32mas\u001b[0m \u001b[0mnp\u001b[0m\u001b[1;33m\u001b[0m\u001b[0m\n\u001b[1;32m----> 8\u001b[1;33m \u001b[1;32mfrom\u001b[0m \u001b[0mutils\u001b[0m\u001b[1;33m.\u001b[0m\u001b[0mdraw\u001b[0m \u001b[1;32mimport\u001b[0m \u001b[0mdraw_graph\u001b[0m\u001b[1;33m,\u001b[0m \u001b[0mdraw_partition\u001b[0m\u001b[1;33m,\u001b[0m \u001b[0mdraw_partition2\u001b[0m\u001b[1;33m,\u001b[0m \u001b[0mdraw_partition3\u001b[0m\u001b[1;33m\u001b[0m\u001b[0m\n\u001b[0m",
      "\u001b[1;31mModuleNotFoundError\u001b[0m: No module named 'utils'"
     ]
    }
   ],
   "source": [
    "from networkx.drawing.nx_agraph import graphviz_layout\n",
    "import matplotlib.pyplot as plt\n",
    "#import pygraphviz as viz\n",
    "import networkx as nx\n",
    "import pandas as pd\n",
    "import random\n",
    "import numpy as np\n",
    "from utils.draw import draw_graph, draw_partition, draw_partition2, draw_partition3"
   ]
  },
  {
   "cell_type": "code",
   "execution_count": 2,
   "metadata": {},
   "outputs": [
    {
     "data": {
      "text/html": [
       "<div>\n",
       "<style scoped>\n",
       "    .dataframe tbody tr th:only-of-type {\n",
       "        vertical-align: middle;\n",
       "    }\n",
       "\n",
       "    .dataframe tbody tr th {\n",
       "        vertical-align: top;\n",
       "    }\n",
       "\n",
       "    .dataframe thead th {\n",
       "        text-align: right;\n",
       "    }\n",
       "</style>\n",
       "<table border=\"1\" class=\"dataframe\">\n",
       "  <thead>\n",
       "    <tr style=\"text-align: right;\">\n",
       "      <th></th>\n",
       "      <th>out_f</th>\n",
       "      <th>in_f</th>\n",
       "    </tr>\n",
       "  </thead>\n",
       "  <tbody>\n",
       "    <tr>\n",
       "      <th>0</th>\n",
       "      <td>alisaborkova</td>\n",
       "      <td>anonskinonoch</td>\n",
       "    </tr>\n",
       "    <tr>\n",
       "      <th>1</th>\n",
       "      <td>tereshina</td>\n",
       "      <td>anonskinonoch</td>\n",
       "    </tr>\n",
       "    <tr>\n",
       "      <th>2</th>\n",
       "      <td>sinart</td>\n",
       "      <td>anonskinonoch</td>\n",
       "    </tr>\n",
       "    <tr>\n",
       "      <th>3</th>\n",
       "      <td>julietta.leks</td>\n",
       "      <td>anonskinonoch</td>\n",
       "    </tr>\n",
       "    <tr>\n",
       "      <th>4</th>\n",
       "      <td>irinalerman</td>\n",
       "      <td>anonskinonoch</td>\n",
       "    </tr>\n",
       "    <tr>\n",
       "      <th>5</th>\n",
       "      <td>id73902851</td>\n",
       "      <td>anonskinonoch</td>\n",
       "    </tr>\n",
       "    <tr>\n",
       "      <th>6</th>\n",
       "      <td>cherenkovaveronika</td>\n",
       "      <td>anonskinonoch</td>\n",
       "    </tr>\n",
       "    <tr>\n",
       "      <th>7</th>\n",
       "      <td>cocktailproject</td>\n",
       "      <td>anonskinonoch</td>\n",
       "    </tr>\n",
       "    <tr>\n",
       "      <th>8</th>\n",
       "      <td>dimatim</td>\n",
       "      <td>anonskinonoch</td>\n",
       "    </tr>\n",
       "    <tr>\n",
       "      <th>9</th>\n",
       "      <td>id84324595</td>\n",
       "      <td>anonskinonoch</td>\n",
       "    </tr>\n",
       "    <tr>\n",
       "      <th>10</th>\n",
       "      <td>bobbyking</td>\n",
       "      <td>anonskinonoch</td>\n",
       "    </tr>\n",
       "    <tr>\n",
       "      <th>11</th>\n",
       "      <td>fotokubstudio</td>\n",
       "      <td>anonskinonoch</td>\n",
       "    </tr>\n",
       "    <tr>\n",
       "      <th>12</th>\n",
       "      <td>idguffik</td>\n",
       "      <td>anonskinonoch</td>\n",
       "    </tr>\n",
       "    <tr>\n",
       "      <th>13</th>\n",
       "      <td>belyiae</td>\n",
       "      <td>anonskinonoch</td>\n",
       "    </tr>\n",
       "    <tr>\n",
       "      <th>14</th>\n",
       "      <td>nikolyatsoy</td>\n",
       "      <td>anonskinonoch</td>\n",
       "    </tr>\n",
       "    <tr>\n",
       "      <th>15</th>\n",
       "      <td>virgykoval</td>\n",
       "      <td>anonskinonoch</td>\n",
       "    </tr>\n",
       "    <tr>\n",
       "      <th>16</th>\n",
       "      <td>id20897800</td>\n",
       "      <td>anonskinonoch</td>\n",
       "    </tr>\n",
       "    <tr>\n",
       "      <th>17</th>\n",
       "      <td>id1087</td>\n",
       "      <td>anonskinonoch</td>\n",
       "    </tr>\n",
       "    <tr>\n",
       "      <th>18</th>\n",
       "      <td>prokat</td>\n",
       "      <td>anonskinonoch</td>\n",
       "    </tr>\n",
       "    <tr>\n",
       "      <th>19</th>\n",
       "      <td>cerber</td>\n",
       "      <td>anonskinonoch</td>\n",
       "    </tr>\n",
       "    <tr>\n",
       "      <th>20</th>\n",
       "      <td>i.krainyuk</td>\n",
       "      <td>anonskinonoch</td>\n",
       "    </tr>\n",
       "    <tr>\n",
       "      <th>21</th>\n",
       "      <td>vologdina</td>\n",
       "      <td>anonskinonoch</td>\n",
       "    </tr>\n",
       "    <tr>\n",
       "      <th>22</th>\n",
       "      <td>freez</td>\n",
       "      <td>anonskinonoch</td>\n",
       "    </tr>\n",
       "    <tr>\n",
       "      <th>23</th>\n",
       "      <td>vkomnatke</td>\n",
       "      <td>anonskinonoch</td>\n",
       "    </tr>\n",
       "    <tr>\n",
       "      <th>24</th>\n",
       "      <td>denisovaolesa</td>\n",
       "      <td>anonskinonoch</td>\n",
       "    </tr>\n",
       "    <tr>\n",
       "      <th>25</th>\n",
       "      <td>liukonen</td>\n",
       "      <td>anonskinonoch</td>\n",
       "    </tr>\n",
       "    <tr>\n",
       "      <th>26</th>\n",
       "      <td>id8086</td>\n",
       "      <td>anonskinonoch</td>\n",
       "    </tr>\n",
       "    <tr>\n",
       "      <th>27</th>\n",
       "      <td>kovalevea</td>\n",
       "      <td>anonskinonoch</td>\n",
       "    </tr>\n",
       "    <tr>\n",
       "      <th>28</th>\n",
       "      <td>liubaeva</td>\n",
       "      <td>anonskinonoch</td>\n",
       "    </tr>\n",
       "    <tr>\n",
       "      <th>29</th>\n",
       "      <td>id2619</td>\n",
       "      <td>kseyas</td>\n",
       "    </tr>\n",
       "    <tr>\n",
       "      <th>...</th>\n",
       "      <td>...</td>\n",
       "      <td>...</td>\n",
       "    </tr>\n",
       "    <tr>\n",
       "      <th>15987</th>\n",
       "      <td>polinagaevskaya</td>\n",
       "      <td>s.semanina</td>\n",
       "    </tr>\n",
       "    <tr>\n",
       "      <th>15988</th>\n",
       "      <td>aljaem</td>\n",
       "      <td>s.semanina</td>\n",
       "    </tr>\n",
       "    <tr>\n",
       "      <th>15989</th>\n",
       "      <td>chrisstar</td>\n",
       "      <td>s.semanina</td>\n",
       "    </tr>\n",
       "    <tr>\n",
       "      <th>15990</th>\n",
       "      <td>ofilatik</td>\n",
       "      <td>s.semanina</td>\n",
       "    </tr>\n",
       "    <tr>\n",
       "      <th>15991</th>\n",
       "      <td>morskayaspb</td>\n",
       "      <td>s.semanina</td>\n",
       "    </tr>\n",
       "    <tr>\n",
       "      <th>15992</th>\n",
       "      <td>nikitarubtsov</td>\n",
       "      <td>s.semanina</td>\n",
       "    </tr>\n",
       "    <tr>\n",
       "      <th>15993</th>\n",
       "      <td>igormalakhov</td>\n",
       "      <td>s.semanina</td>\n",
       "    </tr>\n",
       "    <tr>\n",
       "      <th>15994</th>\n",
       "      <td>rostovastar</td>\n",
       "      <td>s.semanina</td>\n",
       "    </tr>\n",
       "    <tr>\n",
       "      <th>15995</th>\n",
       "      <td>ay</td>\n",
       "      <td>andrewnovoselsky</td>\n",
       "    </tr>\n",
       "    <tr>\n",
       "      <th>15996</th>\n",
       "      <td>natalya</td>\n",
       "      <td>andrewnovoselsky</td>\n",
       "    </tr>\n",
       "    <tr>\n",
       "      <th>15997</th>\n",
       "      <td>andrew</td>\n",
       "      <td>andrewnovoselsky</td>\n",
       "    </tr>\n",
       "    <tr>\n",
       "      <th>15998</th>\n",
       "      <td>ivankozlov</td>\n",
       "      <td>andrewnovoselsky</td>\n",
       "    </tr>\n",
       "    <tr>\n",
       "      <th>15999</th>\n",
       "      <td>egor</td>\n",
       "      <td>andrewnovoselsky</td>\n",
       "    </tr>\n",
       "    <tr>\n",
       "      <th>16000</th>\n",
       "      <td>aobogatov</td>\n",
       "      <td>andrewnovoselsky</td>\n",
       "    </tr>\n",
       "    <tr>\n",
       "      <th>16001</th>\n",
       "      <td>id34</td>\n",
       "      <td>andrewnovoselsky</td>\n",
       "    </tr>\n",
       "    <tr>\n",
       "      <th>16002</th>\n",
       "      <td>dorokhov</td>\n",
       "      <td>andrewnovoselsky</td>\n",
       "    </tr>\n",
       "    <tr>\n",
       "      <th>16003</th>\n",
       "      <td>kapnov</td>\n",
       "      <td>andrewnovoselsky</td>\n",
       "    </tr>\n",
       "    <tr>\n",
       "      <th>16004</th>\n",
       "      <td>elnara</td>\n",
       "      <td>andrewnovoselsky</td>\n",
       "    </tr>\n",
       "    <tr>\n",
       "      <th>16005</th>\n",
       "      <td>burunduk3</td>\n",
       "      <td>andrewnovoselsky</td>\n",
       "    </tr>\n",
       "    <tr>\n",
       "      <th>16006</th>\n",
       "      <td>andrewnovoselsky</td>\n",
       "      <td>aobogatov</td>\n",
       "    </tr>\n",
       "    <tr>\n",
       "      <th>16007</th>\n",
       "      <td>andrewnovoselsky</td>\n",
       "      <td>elnara</td>\n",
       "    </tr>\n",
       "    <tr>\n",
       "      <th>16008</th>\n",
       "      <td>andrewnovoselsky</td>\n",
       "      <td>natalya</td>\n",
       "    </tr>\n",
       "    <tr>\n",
       "      <th>16009</th>\n",
       "      <td>andrewnovoselsky</td>\n",
       "      <td>andrew</td>\n",
       "    </tr>\n",
       "    <tr>\n",
       "      <th>16010</th>\n",
       "      <td>andrewnovoselsky</td>\n",
       "      <td>burunduk3</td>\n",
       "    </tr>\n",
       "    <tr>\n",
       "      <th>16011</th>\n",
       "      <td>andrewnovoselsky</td>\n",
       "      <td>id34</td>\n",
       "    </tr>\n",
       "    <tr>\n",
       "      <th>16012</th>\n",
       "      <td>andrewnovoselsky</td>\n",
       "      <td>dorokhov</td>\n",
       "    </tr>\n",
       "    <tr>\n",
       "      <th>16013</th>\n",
       "      <td>andrewnovoselsky</td>\n",
       "      <td>egor</td>\n",
       "    </tr>\n",
       "    <tr>\n",
       "      <th>16014</th>\n",
       "      <td>andrewnovoselsky</td>\n",
       "      <td>ay</td>\n",
       "    </tr>\n",
       "    <tr>\n",
       "      <th>16015</th>\n",
       "      <td>andrewnovoselsky</td>\n",
       "      <td>kapnov</td>\n",
       "    </tr>\n",
       "    <tr>\n",
       "      <th>16016</th>\n",
       "      <td>andrewnovoselsky</td>\n",
       "      <td>ivankozlov</td>\n",
       "    </tr>\n",
       "  </tbody>\n",
       "</table>\n",
       "<p>16017 rows × 2 columns</p>\n",
       "</div>"
      ],
      "text/plain": [
       "                    out_f              in_f\n",
       "0            alisaborkova     anonskinonoch\n",
       "1               tereshina     anonskinonoch\n",
       "2                  sinart     anonskinonoch\n",
       "3           julietta.leks     anonskinonoch\n",
       "4             irinalerman     anonskinonoch\n",
       "5              id73902851     anonskinonoch\n",
       "6      cherenkovaveronika     anonskinonoch\n",
       "7         cocktailproject     anonskinonoch\n",
       "8                 dimatim     anonskinonoch\n",
       "9              id84324595     anonskinonoch\n",
       "10              bobbyking     anonskinonoch\n",
       "11          fotokubstudio     anonskinonoch\n",
       "12               idguffik     anonskinonoch\n",
       "13                belyiae     anonskinonoch\n",
       "14            nikolyatsoy     anonskinonoch\n",
       "15             virgykoval     anonskinonoch\n",
       "16             id20897800     anonskinonoch\n",
       "17                 id1087     anonskinonoch\n",
       "18                 prokat     anonskinonoch\n",
       "19                 cerber     anonskinonoch\n",
       "20             i.krainyuk     anonskinonoch\n",
       "21              vologdina     anonskinonoch\n",
       "22                  freez     anonskinonoch\n",
       "23              vkomnatke     anonskinonoch\n",
       "24          denisovaolesa     anonskinonoch\n",
       "25               liukonen     anonskinonoch\n",
       "26                 id8086     anonskinonoch\n",
       "27              kovalevea     anonskinonoch\n",
       "28               liubaeva     anonskinonoch\n",
       "29                 id2619            kseyas\n",
       "...                   ...               ...\n",
       "15987     polinagaevskaya        s.semanina\n",
       "15988              aljaem        s.semanina\n",
       "15989           chrisstar        s.semanina\n",
       "15990            ofilatik        s.semanina\n",
       "15991         morskayaspb        s.semanina\n",
       "15992       nikitarubtsov        s.semanina\n",
       "15993        igormalakhov        s.semanina\n",
       "15994         rostovastar        s.semanina\n",
       "15995                  ay  andrewnovoselsky\n",
       "15996             natalya  andrewnovoselsky\n",
       "15997              andrew  andrewnovoselsky\n",
       "15998          ivankozlov  andrewnovoselsky\n",
       "15999                egor  andrewnovoselsky\n",
       "16000           aobogatov  andrewnovoselsky\n",
       "16001                id34  andrewnovoselsky\n",
       "16002            dorokhov  andrewnovoselsky\n",
       "16003              kapnov  andrewnovoselsky\n",
       "16004              elnara  andrewnovoselsky\n",
       "16005           burunduk3  andrewnovoselsky\n",
       "16006    andrewnovoselsky         aobogatov\n",
       "16007    andrewnovoselsky            elnara\n",
       "16008    andrewnovoselsky           natalya\n",
       "16009    andrewnovoselsky            andrew\n",
       "16010    andrewnovoselsky         burunduk3\n",
       "16011    andrewnovoselsky              id34\n",
       "16012    andrewnovoselsky          dorokhov\n",
       "16013    andrewnovoselsky              egor\n",
       "16014    andrewnovoselsky                ay\n",
       "16015    andrewnovoselsky            kapnov\n",
       "16016    andrewnovoselsky        ivankozlov\n",
       "\n",
       "[16017 rows x 2 columns]"
      ]
     },
     "execution_count": 2,
     "metadata": {},
     "output_type": "execute_result"
    }
   ],
   "source": [
    "df = pd.read_csv('vk_links.csv')\n",
    "df"
   ]
  },
  {
   "cell_type": "code",
   "execution_count": 3,
   "metadata": {},
   "outputs": [],
   "source": [
    "users = set(df['out_f']).union(set(df['in_f']))\n",
    "users = list(users)\n",
    "index = np.array(range(len(users)))"
   ]
  },
  {
   "cell_type": "code",
   "execution_count": 4,
   "metadata": {},
   "outputs": [],
   "source": [
    "graph = -np.ones((491,491))\n",
    "\n",
    "for idx, row in df.iterrows():\n",
    "\n",
    "    index1 = users.index(row['out_f'])\n",
    "    index2 = users.index(row['in_f'])\n",
    "\n",
    "    graph[index1][index2] = 0\n",
    "    graph[index2][index1] = 0"
   ]
  },
  {
   "cell_type": "code",
   "execution_count": 5,
   "metadata": {},
   "outputs": [],
   "source": [
    "G = nx.Graph()\n",
    "for idx, row in df.iterrows():\n",
    "    G.add_edge(row['out_f'], row['in_f'])"
   ]
  },
  {
   "cell_type": "code",
   "execution_count": 8,
   "metadata": {},
   "outputs": [],
   "source": [
    "def convert(graph):\n",
    "    G = nx.Graph()\n",
    "    G.add_nodes_from(list(range(graph.shape[0])))\n",
    "    \n",
    "    for x in range(graph.shape[0]):\n",
    "        for y in range(x, graph.shape[0]):\n",
    "            if graph[x][y] == 0:\n",
    "                G.add_edge(x, y)\n",
    "    return G\n"
   ]
  },
  {
   "cell_type": "code",
   "execution_count": 9,
   "metadata": {},
   "outputs": [
    {
     "data": {
      "text/plain": [
       "<networkx.classes.graph.Graph at 0xf00f090>"
      ]
     },
     "execution_count": 9,
     "metadata": {},
     "output_type": "execute_result"
    }
   ],
   "source": [
    "G = convert(graph)"
   ]
  },
  {
   "cell_type": "code",
   "execution_count": 7,
   "metadata": {
    "scrolled": true
   },
   "outputs": [
    {
     "ename": "NameError",
     "evalue": "name 'draw_graph' is not defined",
     "output_type": "error",
     "traceback": [
      "\u001b[1;31m---------------------------------------------------------------------------\u001b[0m",
      "\u001b[1;31mNameError\u001b[0m                                 Traceback (most recent call last)",
      "\u001b[1;32m<ipython-input-7-85d097d8db81>\u001b[0m in \u001b[0;36m<module>\u001b[1;34m()\u001b[0m\n\u001b[1;32m----> 1\u001b[1;33m \u001b[0mdraw_graph\u001b[0m\u001b[1;33m(\u001b[0m\u001b[0mG\u001b[0m\u001b[1;33m)\u001b[0m \u001b[1;31m#download the whole repository for this to work\u001b[0m\u001b[1;33m\u001b[0m\u001b[0m\n\u001b[0m",
      "\u001b[1;31mNameError\u001b[0m: name 'draw_graph' is not defined"
     ]
    }
   ],
   "source": [
    " draw_graph(G) #download the whole repository for this to work"
   ]
  },
  {
   "cell_type": "markdown",
   "metadata": {},
   "source": [
    "## Best community partition"
   ]
  },
  {
   "cell_type": "code",
   "execution_count": null,
   "metadata": {},
   "outputs": [],
   "source": [
    "from community import community_louvain"
   ]
  },
  {
   "cell_type": "code",
   "execution_count": null,
   "metadata": {},
   "outputs": [],
   "source": [
    "partition = community_louvain.best_partition(G)"
   ]
  },
  {
   "cell_type": "code",
   "execution_count": null,
   "metadata": {
    "scrolled": true
   },
   "outputs": [],
   "source": [
    "draw_partition2(G, partition)"
   ]
  },
  {
   "cell_type": "markdown",
   "metadata": {},
   "source": [
    "## k-clique"
   ]
  },
  {
   "cell_type": "code",
   "execution_count": null,
   "metadata": {},
   "outputs": [],
   "source": [
    "from networkx.algorithms.community import k_clique_communities"
   ]
  },
  {
   "cell_type": "code",
   "execution_count": null,
   "metadata": {},
   "outputs": [],
   "source": [
    "def in_which(node, list_of_sets):\n",
    "    idx = 0\n",
    "    for s in list_of_sets:\n",
    "        if node in s:\n",
    "            return idx\n",
    "        idx += 1"
   ]
  },
  {
   "cell_type": "markdown",
   "metadata": {},
   "source": [
    "### k = 6"
   ]
  },
  {
   "cell_type": "code",
   "execution_count": null,
   "metadata": {},
   "outputs": [],
   "source": [
    "c = list(k_clique_communities(G, 5))\n",
    "partition = [in_which(x, c) for x in list(G.nodes)]"
   ]
  },
  {
   "cell_type": "code",
   "execution_count": null,
   "metadata": {
    "scrolled": true
   },
   "outputs": [],
   "source": [
    "draw_partition3(G, partition)"
   ]
  },
  {
   "cell_type": "markdown",
   "metadata": {},
   "source": [
    "## Finding leaders, agents and followers"
   ]
  },
  {
   "cell_type": "markdown",
   "metadata": {},
   "source": [
    "### Методом обхода в ширину"
   ]
  },
  {
   "cell_type": "markdown",
   "metadata": {},
   "source": [
    "Найдем роли пользователей в сообществе на примере одного из найденных сообществ"
   ]
  },
  {
   "cell_type": "code",
   "execution_count": null,
   "metadata": {},
   "outputs": [],
   "source": [
    "from collections import defaultdict, OrderedDict"
   ]
  },
  {
   "cell_type": "code",
   "execution_count": null,
   "metadata": {},
   "outputs": [],
   "source": [
    "partition = community_louvain.best_partition(G)\n",
    "d = defaultdict(list)\n",
    "for key, value in partition.items():\n",
    "    d[value].append(key)"
   ]
  },
  {
   "cell_type": "code",
   "execution_count": null,
   "metadata": {},
   "outputs": [],
   "source": [
    "d"
   ]
  },
  {
   "cell_type": "markdown",
   "metadata": {},
   "source": [
    "Возьмем первое найденное сообщество"
   ]
  },
  {
   "cell_type": "code",
   "execution_count": null,
   "metadata": {},
   "outputs": [],
   "source": [
    "first = G.subgraph(d[0]).copy()"
   ]
  },
  {
   "cell_type": "code",
   "execution_count": null,
   "metadata": {
    "scrolled": true
   },
   "outputs": [],
   "source": [
    "draw_graph(first)"
   ]
  },
  {
   "cell_type": "markdown",
   "metadata": {},
   "source": [
    "#### Ранжировка пользователей"
   ]
  },
  {
   "cell_type": "markdown",
   "metadata": {},
   "source": [
    " 1. Отсортируем пользователей по числу связей\n",
    " 2. Возьмем 10% с наибольшим числом связей (N)\n",
    " 3. Возьмем 10% с наименьшим числом связей (M)"
   ]
  },
  {
   "cell_type": "markdown",
   "metadata": {},
   "source": [
    "Будем считать, что у лидера минимум связей, но при этом максимальный охват.\n",
    "Выберем из N пользователей того, у кого больше всего связей с M пользователями - будем считать его лидером."
   ]
  },
  {
   "cell_type": "code",
   "execution_count": null,
   "metadata": {},
   "outputs": [],
   "source": [
    "deg = list(first.degree)\n",
    "deg.sort(key=lambda tup: tup[1])\n",
    "top = deg[:int(len(deg)*0.1)]\n",
    "bot = deg[-int(len(deg)*0.1):]"
   ]
  },
  {
   "cell_type": "code",
   "execution_count": null,
   "metadata": {},
   "outputs": [],
   "source": [
    "leaders = defaultdict(int)\n",
    "for t in top:\n",
    "    for n in bot:\n",
    "        if n[0] in list(first.adj[t[0]]):\n",
    "            leaders[t[0]] += 1"
   ]
  },
  {
   "cell_type": "code",
   "execution_count": null,
   "metadata": {
    "scrolled": true
   },
   "outputs": [],
   "source": [
    "import operator\n",
    "leader = max(leaders.items(), key=operator.itemgetter(1))[0]\n",
    "leader"
   ]
  },
  {
   "cell_type": "code",
   "execution_count": null,
   "metadata": {
    "scrolled": true
   },
   "outputs": [],
   "source": [
    "followers = set(first.adj[leader])\n",
    "followers"
   ]
  },
  {
   "cell_type": "code",
   "execution_count": null,
   "metadata": {},
   "outputs": [],
   "source": [
    "workers = set(first.nodes).difference(followers).difference(set([leader]))\n",
    "workers"
   ]
  },
  {
   "cell_type": "markdown",
   "metadata": {},
   "source": [
    "## Find communities function"
   ]
  },
  {
   "cell_type": "code",
   "execution_count": null,
   "metadata": {},
   "outputs": [],
   "source": [
    "def find_communities(filename):\n",
    "    # Read datafile\n",
    "    data = pd.read_csv('vk_links.csv')\n",
    "    # Create graph\n",
    "    G = nx.Graph()\n",
    "    for idx, row in data.iterrows():\n",
    "        G.add_edge(row['out_f'], row['in_f'])\n",
    "    # Find best partition\n",
    "    partition = community_louvain.best_partition(G)\n",
    "    d = defaultdict(list)\n",
    "    for key, value in partition.items():\n",
    "        d[value].append(key)\n",
    "    # Find leaders, followers, workers\n",
    "    with open('result.csv', 'w+') as file:\n",
    "        file.write(\"User;Community_ID;User_Type\\n\")\n",
    "        for com_id, com_mem in d.items():\n",
    "            subgraph = G.subgraph(com_mem)\n",
    "            deg = list(subgraph.degree)\n",
    "            deg.sort(key=lambda tup: tup[1])\n",
    "            top = deg[:int(len(deg)*0.1)]\n",
    "            bot = deg[-int(len(deg)*0.1):]\n",
    "            leaders = defaultdict(int)\n",
    "            for t in top:\n",
    "                for n in bot:\n",
    "                    if n[0] in list(subgraph.adj[t[0]]):\n",
    "                        leaders[t[0]] += 1\n",
    "            leader = max(leaders.items(), key=operator.itemgetter(1))[0]\n",
    "            followers = set(subgraph.adj[leader])\n",
    "            workers = set(subgraph.nodes).difference(followers).difference(set([leader]))\n",
    "            file.write(f\"{leader};{com_id};leader\\n\")\n",
    "            for f in followers:\n",
    "                file.write(f\"{f};{com_id};follower\\n\")\n",
    "            for w in workers:\n",
    "                file.write(f\"{w};{com_id};agent\\n\")"
   ]
  },
  {
   "cell_type": "code",
   "execution_count": null,
   "metadata": {},
   "outputs": [],
   "source": [
    "find_communities(\"vk_links.csv\")"
   ]
  },
  {
   "cell_type": "code",
   "execution_count": null,
   "metadata": {},
   "outputs": [],
   "source": [
    "df = pd.read_csv(\"result.csv\", sep=';')"
   ]
  },
  {
   "cell_type": "code",
   "execution_count": null,
   "metadata": {},
   "outputs": [],
   "source": [
    "df"
   ]
  },
  {
   "cell_type": "code",
   "execution_count": null,
   "metadata": {},
   "outputs": [],
   "source": []
  }
 ],
 "metadata": {
  "kernelspec": {
   "display_name": "Python 3",
   "language": "python",
   "name": "python3"
  },
  "language_info": {
   "codemirror_mode": {
    "name": "ipython",
    "version": 3
   },
   "file_extension": ".py",
   "mimetype": "text/x-python",
   "name": "python",
   "nbconvert_exporter": "python",
   "pygments_lexer": "ipython3",
   "version": "3.7.0"
  }
 },
 "nbformat": 4,
 "nbformat_minor": 2
}
