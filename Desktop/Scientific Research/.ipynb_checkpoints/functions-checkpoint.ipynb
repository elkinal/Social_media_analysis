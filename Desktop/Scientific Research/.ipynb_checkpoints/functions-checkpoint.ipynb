{
 "cells": [
  {
   "cell_type": "code",
   "execution_count": 7,
   "metadata": {},
   "outputs": [],
   "source": [
    "#         1    2   3   4   5   6   7   8   9   10   11\n",
    "graph = [[-1, 0,  0, -1, -1, -1, -1, -1, -1, -1, -1], #1\n",
    "        [ 0, -1, -1,  0,  0, -1, -1, -1, -1, -1, -1],  #2\n",
    "        [ 0, -1, -1,  0,  0, -1, -1, -1, -1, -1, -1],  #3\n",
    "        [-1,  0,  0, -1, -1, -1, -1, -1, -1, -1, -1],  #4\n",
    "        [-1,  0,  0,  0, -1,  0, -1, -1, -1, -1, -1],  #5\n",
    "        [-1, -1, -1, -1,  0, -1,  0, -1, -1, -1, -1],  #6\n",
    "        [-1, -1, -1, -1,  0,  0, -1,  0,  0,  0, -1],  #7\n",
    "        [-1, -1, -1, -1, -1, -1,  0, -1,  0,  0, -1],  #8\n",
    "        [-1, -1, -1, -1, -1, -1,  0,  0, -1, -1,  0],  #9\n",
    "        [-1, -1, -1, -1, -1, -1,  0,  0,  0,  0,  0],  #10\n",
    "        [-1, -1, -1, -1, -1, -1, -1, -1,  0,  0, -1]]  #11\n"
   ]
  },
  {
   "cell_type": "code",
   "execution_count": 8,
   "metadata": {},
   "outputs": [],
   "source": [
    "'''This function places the graph into a breadth-first structure'''\n",
    "def breadth_first(graph, root):\n",
    "    n = graph.shape[0]\n",
    "    \n",
    "    new_graph = -np.ones((n, n))\n",
    "    level = np.ones(n)\n",
    "    \n",
    "    current_level = 0\n",
    "    \n",
    "    level[root] = current_level\n",
    "    \n",
    "    while current_level in level:\n",
    "        for node in level[level == current_level]:\n",
    "            \n",
    "            index = []\n",
    "            \n",
    "            for i in range(n):\n",
    "                if graph[node][i]>=0 and level[i] == -1:\n",
    "                    index.append(i)\n",
    "                    \n",
    "            new_graph[node][index] = 0\n",
    "            level[index] = current_level + 1\n",
    "            \n",
    "        current_level += 1\n",
    "    return new_graph, level"
   ]
  },
  {
   "cell_type": "code",
   "execution_count": 9,
   "metadata": {},
   "outputs": [],
   "source": [
    "'''This function calculates the values of the shortest paths to each node (shortest path = the sum of incoming paths)'''\n",
    "def pointer(new_graph, level, root):\n",
    "    \n",
    "    output = np.zeros(new_graph.shape[0])\n",
    "    output[root] = 1\n",
    "    \n",
    "    for x in range(level.max+1):\n",
    "        for y in level[level == x]: #upside down\n",
    "            index = []\n",
    "            for i in range(new_graph.shape[0]): \n",
    "                if new_graph[y][i] >= 0 and level[i] == x+1:\n",
    "                    index.append(i)\n",
    "\n",
    "        output[index] += output[y]\n",
    "    \n",
    "    \n",
    "    return output"
   ]
  },
  {
   "cell_type": "code",
   "execution_count": 10,
   "metadata": {},
   "outputs": [],
   "source": [
    "# Finish the 3rd part later - find the flow values backwards\n",
    "''' Determine the flow values from a starting node A to all other nodes in the network. \n",
    "This is done by working up from the lowest layers of the breadth-first search and dividing up the flow above a node \n",
    "in proportion to the number of shortest paths coming into it on each edge.'''\n",
    "def flow(new_graph, level, root, output):\n",
    "    \n",
    "    flows = np.ones(new_graph.shape[0])\n",
    "    \n",
    "    for x in np.array(range(np.max(level)+1)[::-1]):\n",
    "        for y in level[level == x]:\n",
    "            for i in range(new_graph.shape[0]):\n",
    "                if(new_graph[i][y] >= 0 and level[i] == x-1):\n",
    "                    new_graph[i][y] = flows[y] * output[i] / output[y]\n",
    "                    flows[i] = flows[y] * output[i] / output[y]\n",
    "        \n",
    "    return new_graph\n",
    "    \n",
    "            \n",
    "        "
   ]
  },
  {
   "cell_type": "code",
   "execution_count": 11,
   "metadata": {},
   "outputs": [
    {
     "ename": "SyntaxError",
     "evalue": "invalid syntax (<ipython-input-11-7ba6cb76ea46>, line 3)",
     "output_type": "error",
     "traceback": [
      "\u001b[1;36m  File \u001b[1;32m\"<ipython-input-11-7ba6cb76ea46>\"\u001b[1;36m, line \u001b[1;32m3\u001b[0m\n\u001b[1;33m    1. The edge of highest betweenness is found. These edges are removed from the graph.\u001b[0m\n\u001b[1;37m         ^\u001b[0m\n\u001b[1;31mSyntaxError\u001b[0m\u001b[1;31m:\u001b[0m invalid syntax\n"
     ]
    }
   ],
   "source": [
    "'''unite the functions, review the algorithm, describe how the algorithm works'''\n",
    "\n",
    "1. The edge of highest betweenness is found. These edges are removed from the graph. \n",
    "This can cause the graph to separate into regions\n",
    "\n",
    "2. All the betweenness values are recalculated, and {step 1} is done again - the edges with the\n",
    "highest betweenness values are removed. This breaks down the graph into smaller regions once again\n",
    "\n",
    "3. {1 & 2} are repeated until edges remain in the graph. Removing certain edges exposes a nested\n",
    "structure in the graph\n",
    "\n",
    "'Algorithm Functions - Girvan-Newman Method'\n",
    "\n",
    "1. breadth_first(graph, root) \n",
    "2. pointer(new_graph, level, root)\n",
    "3. flow(new_graph, level, root, output)\n",
    "4. remove the edges with the highest flow values\n",
    "5. GOTO: (1)\n",
    "    \n",
    "'Pseudocode Method'\n",
    "\n",
    "for y in range(iterations): \n",
    "    for x in range(node_number):\n",
    "        root = x\n",
    "\n",
    "        flow_values = flow(\n",
    "            breadth_first()[0],\n",
    "            breadth_first()[1],\n",
    "            root,\n",
    "            pointer(breadth_first()[0], breadth_first()[1], root\n",
    "                   )\n",
    "\n",
    "        removeEdges(); # Removes edges with the highest betweenness values\n",
    "\n",
    "#output a list of graphs. The number of graphs is the same as the number of iterations.\n"
   ]
  },
  {
   "cell_type": "code",
   "execution_count": 12,
   "metadata": {},
   "outputs": [
    {
     "ename": "SyntaxError",
     "evalue": "invalid syntax (<ipython-input-12-939213a96566>, line 18)",
     "output_type": "error",
     "traceback": [
      "\u001b[1;36m  File \u001b[1;32m\"<ipython-input-12-939213a96566>\"\u001b[1;36m, line \u001b[1;32m18\u001b[0m\n\u001b[1;33m    graph[flow_values >= 0] += flow_values[flow_values >= 0]\u001b[0m\n\u001b[1;37m        ^\u001b[0m\n\u001b[1;31mSyntaxError\u001b[0m\u001b[1;31m:\u001b[0m invalid syntax\n"
     ]
    }
   ],
   "source": [
    "def collect(graph, iterations):\n",
    "    output = []\n",
    "    for y in range(iterations):\n",
    "        graph[graph >= 0] = 0\n",
    "        \n",
    "        for x in range(graph.shape[0]):\n",
    "            root = x\n",
    "\n",
    "            breadth_first_value = breadth_first(graph, root)\n",
    "            \n",
    "            flow_values = flow(\n",
    "                breadth_first_value[0],\n",
    "                breadth_first_value[1],\n",
    "                root,\n",
    "                pointer(breadth_first_value[0], breadth_first_value[1], root\n",
    "                       )\n",
    "                \n",
    "            graph[flow_values >= 0] += flow_values[flow_values >= 0]\n",
    "                \n",
    "        graph = removeEdge(graph)\n",
    "        output.append(graph)\n",
    "    \n",
    "    return output"
   ]
  },
  {
   "cell_type": "code",
   "execution_count": 13,
   "metadata": {},
   "outputs": [],
   "source": [
    "def removeEdge(graph):\n",
    "    max_edge = graph.max\n",
    "    graph[graph == max_edge] = -1\n",
    "    return graph"
   ]
  },
  {
   "cell_type": "code",
   "execution_count": 19,
   "metadata": {},
   "outputs": [
    {
     "ename": "NameError",
     "evalue": "name 'collect' is not defined",
     "output_type": "error",
     "traceback": [
      "\u001b[1;31m---------------------------------------------------------------------------\u001b[0m",
      "\u001b[1;31mNameError\u001b[0m                                 Traceback (most recent call last)",
      "\u001b[1;32m<ipython-input-19-c5fc3c18fff1>\u001b[0m in \u001b[0;36m<module>\u001b[1;34m()\u001b[0m\n\u001b[0;32m     17\u001b[0m     \u001b[0mprint\u001b[0m\u001b[1;33m(\u001b[0m\u001b[0moutput\u001b[0m\u001b[1;33m)\u001b[0m\u001b[1;33m\u001b[0m\u001b[0m\n\u001b[0;32m     18\u001b[0m \u001b[1;33m\u001b[0m\u001b[0m\n\u001b[1;32m---> 19\u001b[1;33m \u001b[0mrun\u001b[0m\u001b[1;33m(\u001b[0m\u001b[1;33m)\u001b[0m\u001b[1;33m\u001b[0m\u001b[0m\n\u001b[0m",
      "\u001b[1;32m<ipython-input-19-c5fc3c18fff1>\u001b[0m in \u001b[0;36mrun\u001b[1;34m()\u001b[0m\n\u001b[0;32m     14\u001b[0m \u001b[1;32mdef\u001b[0m \u001b[0mrun\u001b[0m\u001b[1;33m(\u001b[0m\u001b[1;33m)\u001b[0m\u001b[1;33m:\u001b[0m \u001b[1;31m#show the graph\u001b[0m\u001b[1;33m\u001b[0m\u001b[0m\n\u001b[0;32m     15\u001b[0m     \u001b[1;31m#test the code, find data, visualize the graph\u001b[0m\u001b[1;33m\u001b[0m\u001b[1;33m\u001b[0m\u001b[0m\n\u001b[1;32m---> 16\u001b[1;33m     \u001b[0moutput\u001b[0m \u001b[1;33m=\u001b[0m \u001b[0mcollect\u001b[0m\u001b[1;33m(\u001b[0m\u001b[0mgraph\u001b[0m\u001b[1;33m,\u001b[0m \u001b[1;36m11\u001b[0m\u001b[1;33m)\u001b[0m\u001b[1;33m.\u001b[0m\u001b[0moutput\u001b[0m\u001b[1;33m\u001b[0m\u001b[0m\n\u001b[0m\u001b[0;32m     17\u001b[0m     \u001b[0mprint\u001b[0m\u001b[1;33m(\u001b[0m\u001b[0moutput\u001b[0m\u001b[1;33m)\u001b[0m\u001b[1;33m\u001b[0m\u001b[0m\n\u001b[0;32m     18\u001b[0m \u001b[1;33m\u001b[0m\u001b[0m\n",
      "\u001b[1;31mNameError\u001b[0m: name 'collect' is not defined"
     ]
    }
   ],
   "source": [
    "#         1    2   3   4   5   6   7   8   9   10   11\n",
    "graph = [[-1, 0,  0, -1, -1, -1, -1, -1, -1, -1, -1], #1\n",
    "        [ 0, -1, -1,  0,  0, -1, -1, -1, -1, -1, -1],  #2\n",
    "        [ 0, -1, -1,  0,  0, -1, -1, -1, -1, -1, -1],  #3\n",
    "        [-1,  0,  0, -1, -1, -1, -1, -1, -1, -1, -1],  #4\n",
    "        [-1,  0,  0,  0, -1,  0, -1, -1, -1, -1, -1],  #5\n",
    "        [-1, -1, -1, -1,  0, -1,  0, -1, -1, -1, -1],  #6\n",
    "        [-1, -1, -1, -1,  0,  0, -1,  0,  0,  0, -1],  #7\n",
    "        [-1, -1, -1, -1, -1, -1,  0, -1,  0,  0, -1],  #8\n",
    "        [-1, -1, -1, -1, -1, -1,  0,  0, -1, -1,  0],  #9\n",
    "        [-1, -1, -1, -1, -1, -1,  0,  0,  0,  0,  0],  #10\n",
    "        [-1, -1, -1, -1, -1, -1, -1, -1,  0,  0, -1]]  #11\n",
    "\n",
    "def run(): #show the graph\n",
    "    #test the code, find data, visualize the graph\n",
    "    output = collect(graph, 11).output\n",
    "    print(output)\n",
    "\n",
    "run()"
   ]
  },
  {
   "cell_type": "code",
   "execution_count": 17,
   "metadata": {},
   "outputs": [
    {
     "ename": "NameError",
     "evalue": "name 'collect' is not defined",
     "output_type": "error",
     "traceback": [
      "\u001b[1;31m---------------------------------------------------------------------------\u001b[0m",
      "\u001b[1;31mNameError\u001b[0m                                 Traceback (most recent call last)",
      "\u001b[1;32m<ipython-input-17-ec9775ede022>\u001b[0m in \u001b[0;36m<module>\u001b[1;34m()\u001b[0m\n\u001b[1;32m----> 1\u001b[1;33m \u001b[0mrun\u001b[0m\u001b[1;33m(\u001b[0m\u001b[1;33m)\u001b[0m\u001b[1;33m\u001b[0m\u001b[0m\n\u001b[0m",
      "\u001b[1;32m<ipython-input-14-db28def8b2bb>\u001b[0m in \u001b[0;36mrun\u001b[1;34m()\u001b[0m\n\u001b[0;32m      1\u001b[0m \u001b[1;32mdef\u001b[0m \u001b[0mrun\u001b[0m\u001b[1;33m(\u001b[0m\u001b[1;33m)\u001b[0m\u001b[1;33m:\u001b[0m \u001b[1;31m#show the graph\u001b[0m\u001b[1;33m\u001b[0m\u001b[0m\n\u001b[0;32m      2\u001b[0m     \u001b[1;31m#test the code, find data, visualize the graph\u001b[0m\u001b[1;33m\u001b[0m\u001b[1;33m\u001b[0m\u001b[0m\n\u001b[1;32m----> 3\u001b[1;33m     \u001b[0moutput\u001b[0m \u001b[1;33m=\u001b[0m \u001b[0mcollect\u001b[0m\u001b[1;33m(\u001b[0m\u001b[0mgraph\u001b[0m\u001b[1;33m,\u001b[0m \u001b[1;36m11\u001b[0m\u001b[1;33m)\u001b[0m\u001b[1;33m\u001b[0m\u001b[0m\n\u001b[0m\u001b[0;32m      4\u001b[0m     \u001b[0mprint\u001b[0m\u001b[1;33m(\u001b[0m\u001b[0moutput\u001b[0m\u001b[1;33m)\u001b[0m\u001b[1;33m\u001b[0m\u001b[0m\n\u001b[0;32m      5\u001b[0m \u001b[1;33m\u001b[0m\u001b[0m\n",
      "\u001b[1;31mNameError\u001b[0m: name 'collect' is not defined"
     ]
    }
   ],
   "source": [
    "\n"
   ]
  },
  {
   "cell_type": "code",
   "execution_count": null,
   "metadata": {},
   "outputs": [],
   "source": []
  }
 ],
 "metadata": {
  "kernelspec": {
   "display_name": "Python 3",
   "language": "python",
   "name": "python3"
  },
  "language_info": {
   "codemirror_mode": {
    "name": "ipython",
    "version": 3
   },
   "file_extension": ".py",
   "mimetype": "text/x-python",
   "name": "python",
   "nbconvert_exporter": "python",
   "pygments_lexer": "ipython3",
   "version": "3.7.0"
  }
 },
 "nbformat": 4,
 "nbformat_minor": 2
}
