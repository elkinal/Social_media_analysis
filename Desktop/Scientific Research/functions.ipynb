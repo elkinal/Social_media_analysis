{
 "cells": [
  {
   "cell_type": "code",
   "execution_count": 2,
   "metadata": {},
   "outputs": [],
   "source": [
    "import numpy as np"
   ]
  },
  {
   "cell_type": "code",
   "execution_count": 163,
   "metadata": {},
   "outputs": [],
   "source": [
    "'''This function places the graph into a breadth-first structure'''\n",
    "def breadth_first(graph, root):\n",
    "    n = graph.shape[0]\n",
    "    \n",
    "    new_graph = -np.ones((n, n))\n",
    "    level = -np.ones(n,int)\n",
    "    nodes = np.array(range(n))#номера вершин для удобства\n",
    "    \n",
    "    current_level = 0\n",
    "    \n",
    "    level[root] = current_level\n",
    "    \n",
    "    while current_level in level:\n",
    "        for node in nodes[level == current_level]:#не в тот массив смотрели(нужны были номера вершин!)\n",
    "        \n",
    "            \n",
    "            index = []\n",
    "            \n",
    "            for i in range(n):\n",
    "                if graph[node][i]>=0 and level[i] == -1:\n",
    "                    index.append(i)\n",
    "                    \n",
    "            new_graph[node][index] = 0\n",
    "            for i in index:#добавил симметрию\n",
    "                new_graph[i][node] = 0\n",
    "                \n",
    "            level[index] = current_level + 1\n",
    "            \n",
    "        current_level += 1\n",
    "    return new_graph, level"
   ]
  },
  {
   "cell_type": "code",
   "execution_count": 164,
   "metadata": {},
   "outputs": [],
   "source": [
    "graph = np.array([[0, 1., 1., 0, 0],\n",
    "       [1., 0, 1., 0, 0],\n",
    "       [1., 1., 0, 1., 0],\n",
    "       [0, 0, 1., 0, 1.],\n",
    "       [0, 0, 0, 1., 0]])"
   ]
  },
  {
   "cell_type": "code",
   "execution_count": 165,
   "metadata": {},
   "outputs": [],
   "source": [
    "graph[graph == 0] = -1"
   ]
  },
  {
   "cell_type": "code",
   "execution_count": 166,
   "metadata": {},
   "outputs": [],
   "source": [
    "graph[graph>0] = 0"
   ]
  },
  {
   "cell_type": "code",
   "execution_count": 167,
   "metadata": {},
   "outputs": [
    {
     "data": {
      "text/plain": [
       "array([[-1.,  0.,  0., -1., -1.],\n",
       "       [ 0., -1.,  0., -1., -1.],\n",
       "       [ 0.,  0., -1.,  0., -1.],\n",
       "       [-1., -1.,  0., -1.,  0.],\n",
       "       [-1., -1., -1.,  0., -1.]])"
      ]
     },
     "execution_count": 167,
     "metadata": {},
     "output_type": "execute_result"
    }
   ],
   "source": [
    "graph"
   ]
  },
  {
   "cell_type": "code",
   "execution_count": 168,
   "metadata": {},
   "outputs": [],
   "source": [
    "root = 0"
   ]
  },
  {
   "cell_type": "code",
   "execution_count": 169,
   "metadata": {},
   "outputs": [
    {
     "name": "stdout",
     "output_type": "stream",
     "text": [
      "0  0\n",
      "1  1\n",
      "1  2\n",
      "2  3\n",
      "3  4\n"
     ]
    }
   ],
   "source": [
    "new_graph, level = breadth_first(graph,root)"
   ]
  },
  {
   "cell_type": "code",
   "execution_count": 170,
   "metadata": {},
   "outputs": [
    {
     "data": {
      "text/plain": [
       "array([[-1.,  0.,  0., -1., -1.],\n",
       "       [ 0., -1., -1., -1., -1.],\n",
       "       [ 0., -1., -1.,  0., -1.],\n",
       "       [-1., -1.,  0., -1.,  0.],\n",
       "       [-1., -1., -1.,  0., -1.]])"
      ]
     },
     "execution_count": 170,
     "metadata": {},
     "output_type": "execute_result"
    }
   ],
   "source": [
    "new_graph"
   ]
  },
  {
   "cell_type": "code",
   "execution_count": 171,
   "metadata": {},
   "outputs": [
    {
     "data": {
      "text/plain": [
       "[0, 1, 2, 3]"
      ]
     },
     "execution_count": 171,
     "metadata": {},
     "output_type": "execute_result"
    }
   ],
   "source": [
    "list(range(int(level.max()+1)))"
   ]
  },
  {
   "cell_type": "markdown",
   "metadata": {},
   "source": [
    "breadth_first - вроде исправил"
   ]
  },
  {
   "cell_type": "code",
   "execution_count": 172,
   "metadata": {},
   "outputs": [],
   "source": [
    "'''This function calculates the values of the shortest paths to each node (shortest path = the sum of incoming paths)'''\n",
    "def pointer(new_graph, level, root):\n",
    "    \n",
    "    n = new_graph.shape[0]\n",
    "    output = np.zeros(n)\n",
    "    output[root] = 1\n",
    "    nodes = np.array(range(n))#номера вершин для удобства\n",
    "    \n",
    "    for x in range(int(level.max()+1)):\n",
    "        for y in nodes[level == x]: #upside down #не в тот массив смотрели(нужны были номера вершин!)\n",
    "            index = []\n",
    "            for i in range(n): \n",
    "                if new_graph[y][i] >= 0 and level[i] == x+1:\n",
    "                    index.append(i)\n",
    "\n",
    "        output[index] += output[y]\n",
    "    \n",
    "    \n",
    "    return output"
   ]
  },
  {
   "cell_type": "code",
   "execution_count": 173,
   "metadata": {},
   "outputs": [],
   "source": [
    "output = pointer(new_graph, level, root)"
   ]
  },
  {
   "cell_type": "code",
   "execution_count": 174,
   "metadata": {},
   "outputs": [
    {
     "data": {
      "text/plain": [
       "array([3, 2, 1, 0])"
      ]
     },
     "execution_count": 174,
     "metadata": {},
     "output_type": "execute_result"
    }
   ],
   "source": [
    "np.array(range(np.max(level)+1)[::-1])"
   ]
  },
  {
   "cell_type": "code",
   "execution_count": 175,
   "metadata": {},
   "outputs": [
    {
     "data": {
      "text/plain": [
       "array([0, 1, 1, 2, 3])"
      ]
     },
     "execution_count": 175,
     "metadata": {},
     "output_type": "execute_result"
    }
   ],
   "source": [
    "level"
   ]
  },
  {
   "cell_type": "markdown",
   "metadata": {},
   "source": [
    "pointer - вроде исправил (нужна проверка на более больших графах)"
   ]
  },
  {
   "cell_type": "code",
   "execution_count": 176,
   "metadata": {},
   "outputs": [],
   "source": [
    "''' Determine the flow values from a starting node A to all other nodes in the network. \n",
    "This is done by working up from the lowest layers of the breadth-first search and dividing up the flow above a node \n",
    "in proportion to the number of shortest paths coming into it on each edge.'''\n",
    "def flow(new_graph, level, root, output):\n",
    "    \n",
    "    n = new_graph.shape[0]\n",
    "    nodes = np.array(range(n))#номера вершин для удобства\n",
    "    flows = np.ones(n)\n",
    "    \n",
    "    for x in np.array(range(np.max(level)+1)[::-1]):\n",
    "        for y in nodes[level == x]:  #не в тот массив смотрели(нужны были номера вершин!)\n",
    "            for i in range(n):\n",
    "                if(new_graph[i][y] >= 0 and level[i] == x-1):\n",
    "                    new_graph[i][y] = flows[y] * output[i] / output[y]\n",
    "                    new_graph[y][i] = flows[y] * output[i] / output[y]\n",
    "                    flows[i] = flows[y] * output[i] / output[y]\n",
    "        \n",
    "    return new_graph"
   ]
  },
  {
   "cell_type": "code",
   "execution_count": 177,
   "metadata": {},
   "outputs": [
    {
     "data": {
      "text/plain": [
       "array([[-1.,  0.,  0., -1., -1.],\n",
       "       [ 0., -1., -1., -1., -1.],\n",
       "       [ 0., -1., -1.,  0., -1.],\n",
       "       [-1., -1.,  0., -1.,  0.],\n",
       "       [-1., -1., -1.,  0., -1.]])"
      ]
     },
     "execution_count": 177,
     "metadata": {},
     "output_type": "execute_result"
    }
   ],
   "source": [
    "new_graph"
   ]
  },
  {
   "cell_type": "code",
   "execution_count": 178,
   "metadata": {},
   "outputs": [
    {
     "data": {
      "text/plain": [
       "array([[-1.,  1.,  1., -1., -1.],\n",
       "       [ 1., -1., -1., -1., -1.],\n",
       "       [ 1., -1., -1.,  1., -1.],\n",
       "       [-1., -1.,  1., -1.,  1.],\n",
       "       [-1., -1., -1.,  1., -1.]])"
      ]
     },
     "execution_count": 178,
     "metadata": {},
     "output_type": "execute_result"
    }
   ],
   "source": [
    "flow(new_graph, level, root, output)"
   ]
  },
  {
   "cell_type": "markdown",
   "metadata": {},
   "source": [
    "flow - вроде исправил (нужна проверка на более больших графах)"
   ]
  }
 ],
 "metadata": {
  "kernelspec": {
   "display_name": "Python 3",
   "language": "python",
   "name": "python3"
  },
  "language_info": {
   "codemirror_mode": {
    "name": "ipython",
    "version": 3
   },
   "file_extension": ".py",
   "mimetype": "text/x-python",
   "name": "python",
   "nbconvert_exporter": "python",
   "pygments_lexer": "ipython3",
   "version": "3.7.0"
  }
 },
 "nbformat": 4,
 "nbformat_minor": 2
}
